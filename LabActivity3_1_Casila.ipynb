{
  "nbformat": 4,
  "nbformat_minor": 0,
  "metadata": {
    "colab": {
      "provenance": []
    },
    "kernelspec": {
      "name": "python3",
      "display_name": "Python 3"
    },
    "language_info": {
      "name": "python"
    }
  },
  "cells": [
    {
      "cell_type": "code",
      "execution_count": 9,
      "metadata": {
        "id": "8j5hgNSxIau2"
      },
      "outputs": [],
      "source": [
        "import pandas as pd\n",
        "import numpy as np"
      ]
    },
    {
      "cell_type": "code",
      "source": [
        "# Sample DataFrame creation\n",
        "data = {\n",
        "    'traveller': ['T1', 'T2', 'T1', 'T3', 'T1', 'T2', 'T1'],\n",
        "    'departure': ['Davao City'] * 7,\n",
        "    'departure_time': ['2023-01-01', '2023-01-15', '2023-02-01', '2023-02-15', '2023-03-01', '2023-03-15', '2023-04-01'],\n",
        "    'arrival': ['Manila'] * 7,\n",
        "    'arrival_time': ['2023-01-01', '2023-01-15', '2023-02-01', '2023-02-15', '2023-03-01', '2023-03-15', '2023-04-01'],\n",
        "    'flight': ['PA101', 'PA102', 'PA103', 'PA104', 'PA105', 'PA106', 'PA107'],\n",
        "    'fare': [6000, 7000, 8000, 9000, 10000, 11000, 12000]\n",
        "\n",
        "}\n",
        "df = pd.DataFrame(data)"
      ],
      "metadata": {
        "id": "ElMo8UNpJQ85"
      },
      "execution_count": 3,
      "outputs": []
    },
    {
      "cell_type": "markdown",
      "source": [
        "**Step 1: Filter Data**"
      ],
      "metadata": {
        "id": "K6vY66arJlma"
      }
    },
    {
      "cell_type": "code",
      "source": [
        "filtered_df = df[(df['departure'] == 'Davao City') & (df['arrival'] == 'Manila') & (df['flight'].str.startswith('PA')) & (df['departure_time'].str.startswith('2023'))]"
      ],
      "metadata": {
        "id": "5S-Y1iGVJhcE"
      },
      "execution_count": 4,
      "outputs": []
    },
    {
      "cell_type": "markdown",
      "source": [
        "**Step 2: Extract month from departure_time**"
      ],
      "metadata": {
        "id": "lZvz1ICeJ7Ue"
      }
    },
    {
      "cell_type": "code",
      "source": [
        "filtered_df['month'] = pd.to_datetime(filtered_df['departure_time']).dt.to_period('M')"
      ],
      "metadata": {
        "id": "5uXywK74KCWj"
      },
      "execution_count": 5,
      "outputs": []
    },
    {
      "cell_type": "markdown",
      "source": [
        "**Step 3: Roll-up Operations**"
      ],
      "metadata": {
        "id": "GMLYa3uFKHag"
      }
    },
    {
      "cell_type": "code",
      "source": [
        "result = filtered_df.groupby(['traveller', 'month']).agg(avg_fare=('fare', 'mean')).reset_index()"
      ],
      "metadata": {
        "id": "rFDBEUAxKLLd"
      },
      "execution_count": 6,
      "outputs": []
    },
    {
      "cell_type": "markdown",
      "source": [
        "**Save the result to a CSV file**"
      ],
      "metadata": {
        "id": "4UG9zoceKZMH"
      }
    },
    {
      "cell_type": "code",
      "source": [
        "output_filename = 'LabActivity3-1_Casila.csv'\n",
        "result.to_csv(output_filename, index=False)"
      ],
      "metadata": {
        "id": "qRo6l-IeKgUG"
      },
      "execution_count": 7,
      "outputs": []
    },
    {
      "cell_type": "code",
      "source": [
        "print(f\"File saved as: {output_filename}\")"
      ],
      "metadata": {
        "colab": {
          "base_uri": "https://localhost:8080/"
        },
        "id": "MnUqH5MXKmP_",
        "outputId": "0953beb3-176a-4609-80f3-dc897de6c160"
      },
      "execution_count": 8,
      "outputs": [
        {
          "output_type": "stream",
          "name": "stdout",
          "text": [
            "File saved as: LabActivity3-1_Casila.csv\n"
          ]
        }
      ]
    }
  ]
}